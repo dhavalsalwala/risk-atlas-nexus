{
 "cells": [
  {
   "cell_type": "markdown",
   "id": "2211d4fb",
   "metadata": {},
   "source": [
    "#### This notebook explains how to run risks evaluation through the ARES API\n",
    "\n",
    "#### Import libraries\n"
   ]
  },
  {
   "cell_type": "code",
   "execution_count": 1,
   "id": "66b36c6e",
   "metadata": {},
   "outputs": [
    {
     "name": "stderr",
     "output_type": "stream",
     "text": [
      "/Users/dhaval/.pyenv/versions/nexus/lib/python3.12/site-packages/tqdm/auto.py:21: TqdmWarning: IProgress not found. Please update jupyter and ipywidgets. See https://ipywidgets.readthedocs.io/en/stable/user_install.html\n",
      "  from .autonotebook import tqdm as notebook_tqdm\n"
     ]
    },
    {
     "name": "stdout",
     "output_type": "stream",
     "text": [
      "2025-08-26 21:58:53,806 - INFO - Loading faiss.\n",
      "2025-08-26 21:58:53,824 - INFO - Successfully loaded faiss.\n"
     ]
    },
    {
     "name": "stderr",
     "output_type": "stream",
     "text": [
      "/Users/dhaval/.pyenv/versions/nexus/lib/python3.12/site-packages/tika/__init__.py:20: UserWarning: pkg_resources is deprecated as an API. See https://setuptools.pypa.io/en/latest/pkg_resources.html. The pkg_resources package is slated for removal as early as 2025-11-30. Refrain from using this package or pin to Setuptools<81.\n",
      "  __import__('pkg_resources').declare_namespace(__name__)\n"
     ]
    }
   ],
   "source": [
    "from risk_atlas_nexus.library import RiskAtlasNexus"
   ]
  },
  {
   "cell_type": "markdown",
   "id": "711c538c",
   "metadata": {},
   "source": [
    "#### Create an instance of RiskAtlasNexus"
   ]
  },
  {
   "cell_type": "code",
   "execution_count": 2,
   "id": "a58f73f1",
   "metadata": {},
   "outputs": [
    {
     "name": "stderr",
     "output_type": "stream",
     "text": [
      "[2025-08-26 21:58:55:717] - INFO - RiskAtlasNexus - Created RiskAtlasNexus instance. Base_dir: None\n"
     ]
    }
   ],
   "source": [
    "risk_atlas_nexus = RiskAtlasNexus()"
   ]
  },
  {
   "cell_type": "markdown",
   "id": "5cf52060",
   "metadata": {},
   "source": [
    "#### Execute evaluation using the ARES API"
   ]
  },
  {
   "cell_type": "code",
   "execution_count": 3,
   "id": "36ecaf77",
   "metadata": {},
   "outputs": [
    {
     "name": "stdout",
     "output_type": "stream",
     "text": [
      "2025-08-26 21:58:55,723 - INFO - ARES evaluation started.\n",
      "2025-08-26 21:58:55,732 - INFO - Checking for presence of: ares.goals.generic_attack_goal.GenericAttackGoal\n",
      "2025-08-26 21:58:55,733 - INFO - Checking for presence of: readi_eval.READIEvaluator\n",
      "2025-08-26 21:58:57,416 - INFO - Checking for presence of: ares.strategies.direct_requests.DirectRequests\n",
      "2025-08-26 21:58:57,476 - INFO - External connectors found in ares plugins: []:\n",
      "2025-08-26 21:58:57,477 - INFO - ==========Target==========\n",
      "2025-08-26 21:58:57,477 - INFO - Connector initialized with config: {'name': huggingface/ares.connectors.huggingface.HuggingFaceConnector}\n",
      "2025-08-26 21:58:59,515 - INFO - ==========Goals==========\n",
      "2025-08-26 21:58:59,516 - INFO - AttackGoal initialized with config: {'type': ares.goals.generic_attack_goal.GenericAttackGoal}\n",
      "2025-08-26 21:58:59,520 - INFO - Successfully read 10 goal(s) from file!\n",
      "2025-08-26 21:58:59,520 - INFO - Goals saved to assets/attack_goals.json\n",
      "2025-08-26 21:58:59,521 - INFO - ========Strategies=======\n",
      "2025-08-26 21:58:59,521 - INFO - Loading goals from source: assets/attack_goals.json\n",
      "2025-08-26 21:58:59,522 - INFO - AttackStrategy initialized with config: {ares.strategies.direct_requests.DirectRequests}\n",
      "2025-08-26 21:58:59,522 - INFO - Attacking target connector huggingface with 10 prompt(s)...\n"
     ]
    },
    {
     "name": "stderr",
     "output_type": "stream",
     "text": [
      "100%|██████████| 10/10 [00:30<00:00,  3.05s/it]"
     ]
    },
    {
     "name": "stdout",
     "output_type": "stream",
     "text": [
      "2025-08-26 21:59:30,028 - INFO - Saving attack results to assets/direct_requests.json\n",
      "2025-08-26 21:59:30,030 - INFO - =======Evaluations=======\n",
      "2025-08-26 21:59:30,030 - INFO - AttackEval initialized with config: {'name': READIEvaluator}\n"
     ]
    },
    {
     "name": "stderr",
     "output_type": "stream",
     "text": [
      "\n"
     ]
    },
    {
     "name": "stdout",
     "output_type": "stream",
     "text": [
      "2025-08-26 21:59:32,748 - INFO - Starting READI evaluation...\n"
     ]
    },
    {
     "name": "stderr",
     "output_type": "stream",
     "text": [
      "100%|██████████| 10/10 [00:01<00:00,  9.31it/s]"
     ]
    },
    {
     "name": "stdout",
     "output_type": "stream",
     "text": [
      "2025-08-26 21:59:33,823 - INFO - Saving results to results/direct_requests_evaluation.json\n"
     ]
    },
    {
     "name": "stderr",
     "output_type": "stream",
     "text": [
      "\n"
     ]
    },
    {
     "ename": "UFuncTypeError",
     "evalue": "ufunc 'logical_and' did not contain a loop with signature matching types (<class 'numpy.dtypes.Float64DType'>, <class 'numpy.dtypes.StrDType'>) -> None",
     "output_type": "error",
     "traceback": [
      "\u001b[31m---------------------------------------------------------------------------\u001b[39m",
      "\u001b[31mUFuncTypeError\u001b[39m                            Traceback (most recent call last)",
      "\u001b[36mCell\u001b[39m\u001b[36m \u001b[39m\u001b[32mIn[3]\u001b[39m\u001b[32m, line 1\u001b[39m\n\u001b[32m----> \u001b[39m\u001b[32m1\u001b[39m \u001b[43mrisk_atlas_nexus\u001b[49m\u001b[43m.\u001b[49m\u001b[43mexecute_ares_evaluation\u001b[49m\u001b[43m(\u001b[49m\u001b[33;43m\"\u001b[39;49m\u001b[33;43mibm-risk-atlas-robustness-prompt-attacks\u001b[39;49m\u001b[33;43m\"\u001b[39;49m\u001b[43m)\u001b[49m\n",
      "\u001b[36mFile \u001b[39m\u001b[32m~/Projects/Usage-Governance/risk-atlas-nexus/src/risk_atlas_nexus/library.py:1354\u001b[39m, in \u001b[36mRiskAtlasNexus.execute_ares_evaluation\u001b[39m\u001b[34m(self, risk_group)\u001b[39m\n\u001b[32m   1351\u001b[39m ares_config.update(ares_config[\u001b[33m\"\u001b[39m\u001b[33mred-teaming\u001b[39m\u001b[33m\"\u001b[39m].pop(\u001b[33m\"\u001b[39m\u001b[33mintent_config\u001b[39m\u001b[33m\"\u001b[39m))\n\u001b[32m   1353\u001b[39m \u001b[38;5;66;03m# Call ARES API\u001b[39;00m\n\u001b[32m-> \u001b[39m\u001b[32m1354\u001b[39m \u001b[43mevaluate\u001b[49m\u001b[43m(\u001b[49m\u001b[43mconfig\u001b[49m\u001b[43m=\u001b[49m\u001b[43mPath\u001b[49m\u001b[43m(\u001b[49m\u001b[43mos\u001b[49m\u001b[43m.\u001b[49m\u001b[43mpath\u001b[49m\u001b[43m.\u001b[49m\u001b[43mjoin\u001b[49m\u001b[43m(\u001b[49m\u001b[43mARES_DIR\u001b[49m\u001b[43m,\u001b[49m\u001b[43m \u001b[49m\u001b[33;43m\"\u001b[39;49m\u001b[33;43mrun_config.yaml\u001b[39;49m\u001b[33;43m\"\u001b[39;49m\u001b[43m)\u001b[49m\u001b[43m)\u001b[49m\u001b[43m)\u001b[49m\n",
      "\u001b[36mFile \u001b[39m\u001b[32m~/.pyenv/versions/nexus/lib/python3.12/site-packages/ares/cli.py:92\u001b[39m, in \u001b[36mevaluate\u001b[39m\u001b[34m(config, limit, first_n, dashboard, verbose)\u001b[39m\n\u001b[32m     90\u001b[39m \u001b[38;5;66;03m# Setup the target\u001b[39;00m\n\u001b[32m     91\u001b[39m \u001b[38;5;28;01mtry\u001b[39;00m:\n\u001b[32m---> \u001b[39m\u001b[32m92\u001b[39m     \u001b[43mrt\u001b[49m\u001b[43m.\u001b[49m\u001b[43mredteam\u001b[49m\u001b[43m(\u001b[49m\u001b[43mlimit\u001b[49m\u001b[43m,\u001b[49m\u001b[43m \u001b[49m\u001b[43mfirst_n\u001b[49m\u001b[43m)\u001b[49m\n\u001b[32m     93\u001b[39m \u001b[38;5;28;01mexcept\u001b[39;00m (\u001b[38;5;167;01mEnvironmentError\u001b[39;00m, \u001b[38;5;167;01mModuleNotFoundError\u001b[39;00m) \u001b[38;5;28;01mas\u001b[39;00m env_err:\n\u001b[32m     94\u001b[39m     logger.error(env_err)\n",
      "\u001b[36mFile \u001b[39m\u001b[32m~/.pyenv/versions/nexus/lib/python3.12/site-packages/ares/redteam.py:478\u001b[39m, in \u001b[36mRedTeamer.redteam\u001b[39m\u001b[34m(self, limit, first_n)\u001b[39m\n\u001b[32m    476\u001b[39m strategy_output_path = \u001b[38;5;28mself\u001b[39m.strategy()\n\u001b[32m    477\u001b[39m \u001b[38;5;28mself\u001b[39m.add_evaluation_input_path(strategy_output_path.as_posix())\n\u001b[32m--> \u001b[39m\u001b[32m478\u001b[39m \u001b[38;5;28;43mself\u001b[39;49m\u001b[43m.\u001b[49m\u001b[43mevaluate\u001b[49m\u001b[43m(\u001b[49m\u001b[43m)\u001b[49m\n\u001b[32m    479\u001b[39m \u001b[38;5;28mself\u001b[39m.report()\n",
      "\u001b[36mFile \u001b[39m\u001b[32m~/.pyenv/versions/nexus/lib/python3.12/site-packages/ares/redteam.py:351\u001b[39m, in \u001b[36mRedTeamer.evaluate\u001b[39m\u001b[34m(self)\u001b[39m\n\u001b[32m    348\u001b[39m eval_impl.update_output_path(eval_path.as_posix())\n\u001b[32m    350\u001b[39m eval_results = eval_impl.evaluate(attack_response)\n\u001b[32m--> \u001b[39m\u001b[32m351\u001b[39m metrics = \u001b[43meval_impl\u001b[49m\u001b[43m.\u001b[49m\u001b[43mcompute_metrics\u001b[49m\u001b[43m(\u001b[49m\u001b[43meval_results\u001b[49m\u001b[43m)\u001b[49m\n\u001b[32m    352\u001b[39m \u001b[38;5;28mself\u001b[39m.metrics[strategy] = metrics\n\u001b[32m    353\u001b[39m aggregated_evaluation[strategy] = eval_results\n",
      "\u001b[36mFile \u001b[39m\u001b[32m~/.pyenv/versions/nexus/lib/python3.12/site-packages/ares/evals/attack_eval.py:109\u001b[39m, in \u001b[36mAttackEval.compute_metrics\u001b[39m\u001b[34m(eval_results, callables)\u001b[39m\n\u001b[32m    106\u001b[39m labels = np.asarray(label_list)\n\u001b[32m    107\u001b[39m prediction = np.asarray(prediction_list)\n\u001b[32m--> \u001b[39m\u001b[32m109\u001b[39m tp = np.sum(\u001b[43mnp\u001b[49m\u001b[43m.\u001b[49m\u001b[43mlogical_and\u001b[49m\u001b[43m(\u001b[49m\u001b[43mprediction\u001b[49m\u001b[43m,\u001b[49m\u001b[43m \u001b[49m\u001b[43mlabels\u001b[49m\u001b[43m)\u001b[49m).tolist()\n\u001b[32m    110\u001b[39m fp = np.sum((np.logical_and(prediction, np.where(labels == \u001b[32m0\u001b[39m, \u001b[32m1\u001b[39m, \u001b[32m0\u001b[39m)))).tolist()\n\u001b[32m    111\u001b[39m tn = np.sum((np.logical_and(np.where(prediction == \u001b[32m0\u001b[39m, \u001b[32m1\u001b[39m, \u001b[32m0\u001b[39m), np.where(labels == \u001b[32m0\u001b[39m, \u001b[32m1\u001b[39m, \u001b[32m0\u001b[39m)))).tolist()\n",
      "\u001b[31mUFuncTypeError\u001b[39m: ufunc 'logical_and' did not contain a loop with signature matching types (<class 'numpy.dtypes.Float64DType'>, <class 'numpy.dtypes.StrDType'>) -> None"
     ]
    }
   ],
   "source": [
    "risk_atlas_nexus.execute_ares_evaluation(\"ibm-risk-atlas-robustness-prompt-attacks\")"
   ]
  }
 ],
 "metadata": {
  "kernelspec": {
   "display_name": "nexus",
   "language": "python",
   "name": "python3"
  },
  "language_info": {
   "codemirror_mode": {
    "name": "ipython",
    "version": 3
   },
   "file_extension": ".py",
   "mimetype": "text/x-python",
   "name": "python",
   "nbconvert_exporter": "python",
   "pygments_lexer": "ipython3",
   "version": "3.12.0"
  }
 },
 "nbformat": 4,
 "nbformat_minor": 5
}
